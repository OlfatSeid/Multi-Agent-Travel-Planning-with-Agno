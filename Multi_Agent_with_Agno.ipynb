{
  "nbformat": 4,
  "nbformat_minor": 0,
  "metadata": {
    "colab": {
      "provenance": []
    },
    "kernelspec": {
      "name": "python3",
      "display_name": "Python 3"
    },
    "language_info": {
      "name": "python"
    }
  },
  "cells": [
    {
      "cell_type": "code",
      "source": [
        "!pip install -qU agno duckduckgo-search yfinance groq gradio"
      ],
      "metadata": {
        "id": "UHmWxOeG4bk-"
      },
      "execution_count": 1,
      "outputs": []
    },
    {
      "cell_type": "code",
      "source": [
        "import gradio as gr\n",
        "import os\n",
        "import json\n",
        "import time\n",
        "from agno.agent import Agent\n",
        "from agno.models.groq import Groq\n",
        "from agno.tools.duckduckgo import DuckDuckGoTools\n",
        "from google.colab import userdata"
      ],
      "metadata": {
        "id": "5tveJumw7MzU"
      },
      "execution_count": 2,
      "outputs": []
    },
    {
      "cell_type": "code",
      "source": [
        "output_dir = \"./travel_output\"\n",
        "os.makedirs(output_dir, exist_ok=True)\n",
        "\n",
        "groq_api_key = userdata.get('GROQ_API_KEY')\n",
        "basic_llm = Groq(id=\"qwen-2.5-32b\", api_key=groq_api_key)"
      ],
      "metadata": {
        "id": "u0h7jv709qN-"
      },
      "execution_count": 3,
      "outputs": []
    },
    {
      "cell_type": "code",
      "source": [
        "\n",
        "# Travel Researcher Agent:\n",
        "research_agent = Agent(\n",
        "    name=\"Travel Researcher\",\n",
        "    role=\"Find travel destinations and attractions\",\n",
        "    model=basic_llm,\n",
        "    tools=[DuckDuckGoTools()],\n",
        "    instructions=(\n",
        "        \"Provide the latest travel information with verified sources. \"\n",
        "        \"Return your results in a clear, step-by-step format with headings for each section.\"\n",
        "    ),\n",
        "    markdown=True\n",
        ")\n",
        "\n",
        "\n",
        "# Itinerary Builder Agent:\n",
        "planner_agent = Agent(\n",
        "    name=\"Itinerary Builder\",\n",
        "    role=\"Create optimized travel plans\",\n",
        "    model=basic_llm,\n",
        "    instructions=(\n",
        "        \"Include transportation, accommodation, and activity recommendations. \"\n",
        "        \"Format the itinerary as a numbered list with clear steps for each day.\"\n",
        "    ),\n",
        "    markdown=True\n",
        ")\n",
        "\n",
        "\n",
        "\n",
        "# Budget Analyst Agent:\n",
        "budget_agent = Agent(\n",
        "    name=\"Budget Analyst\",\n",
        "    role=\"Plan and optimize travel budgets\",\n",
        "    model=basic_llm,\n",
        "    instructions=(\n",
        "        \"Analyze the trip costs, provide a breakdown of expected expenses, and include cost-saving recommendations. \"\n",
        "        \"Return your analysis in clear, organized steps with headings for each expense category.\"\n",
        "    ),\n",
        "    markdown=True\n",
        ")\n",
        "\n",
        "\n",
        "\n",
        "# Combine the individual agents into a team agent:\n",
        "travel_team = Agent(\n",
        "    team=[research_agent, planner_agent, budget_agent],\n",
        "    model=basic_llm,\n",
        "    instructions=[\n",
        "        \"Consider budget and time constraints, safety recommendations, and local cuisine suggestions.\",\n",
        "        \"Return a well-organized, step-by-step travel plan that integrates destination research, itinerary planning, and budget analysis.\",\n",
        "        \"Each section should have a clear heading and corresponding details.\"\n",
        "    ],\n",
        "    markdown=True\n",
        ")\n"
      ],
      "metadata": {
        "collapsed": true,
        "id": "9Flq-xr07Mji"
      },
      "execution_count": 4,
      "outputs": []
    },
    {
      "cell_type": "markdown",
      "source": [
        "#### Gradio UI"
      ],
      "metadata": {
        "id": "IigWoeW89-xS"
      }
    },
    {
      "cell_type": "code",
      "source": [
        "def plan_travel(user_query: str) -> str:\n",
        "    \"\"\"\n",
        "    Runs the travel team agent on the user query and returns the organized travel plan.\n",
        "    \"\"\"\n",
        "    result = travel_team.run(user_query)\n",
        "\n",
        "    return str(result)\n",
        "\n",
        "with gr.Blocks(theme=gr.themes.Soft()) as app:\n",
        "    gr.Markdown(\"# 🌍 AI Travel Planner\")\n",
        "\n",
        "    query = gr.Textbox(\n",
        "        label=\"Enter your travel request\",\n",
        "        placeholder=\"e.g., 10-day family trip to Japan under $5000\",\n",
        "        lines=2\n",
        "    )\n",
        "    btn = gr.Button(\"Generate Plan\", variant=\"primary\")\n",
        "    output = gr.Markdown()\n",
        "\n",
        "    btn.click(fn=plan_travel, inputs=query, outputs=output)\n",
        "\n",
        "app.launch(share=True)"
      ],
      "metadata": {
        "colab": {
          "base_uri": "https://localhost:8080/",
          "height": 611
        },
        "id": "4aRmxJPq9jYD",
        "outputId": "b6a780b7-5850-4d00-fda4-0c7bb538082c"
      },
      "execution_count": 5,
      "outputs": [
        {
          "output_type": "stream",
          "name": "stdout",
          "text": [
            "Colab notebook detected. To show errors in colab notebook, set debug=True in launch()\n",
            "* Running on public URL: https://181b8b18cd094ccadb.gradio.live\n",
            "\n",
            "This share link expires in 72 hours. For free permanent hosting and GPU upgrades, run `gradio deploy` from the terminal in the working directory to deploy to Hugging Face Spaces (https://huggingface.co/spaces)\n"
          ]
        },
        {
          "output_type": "display_data",
          "data": {
            "text/plain": [
              "<IPython.core.display.HTML object>"
            ],
            "text/html": [
              "<div><iframe src=\"https://181b8b18cd094ccadb.gradio.live\" width=\"100%\" height=\"500\" allow=\"autoplay; camera; microphone; clipboard-read; clipboard-write;\" frameborder=\"0\" allowfullscreen></iframe></div>"
            ]
          },
          "metadata": {}
        },
        {
          "output_type": "execute_result",
          "data": {
            "text/plain": []
          },
          "metadata": {},
          "execution_count": 5
        }
      ]
    }
  ]
}